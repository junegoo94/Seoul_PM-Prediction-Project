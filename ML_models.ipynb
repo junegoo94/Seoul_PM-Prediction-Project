{
 "cells": [
  {
   "cell_type": "code",
   "execution_count": 1,
   "metadata": {},
   "outputs": [],
   "source": [
    "import pandas as pd\n",
    "import matplotlib.pyplot as plt\n",
    "import numpy as np"
   ]
  },
  {
   "cell_type": "code",
   "execution_count": 2,
   "metadata": {},
   "outputs": [],
   "source": [
    "s_final = pd.read_csv('standardised_final_dataset.csv')"
   ]
  },
  {
   "cell_type": "code",
   "execution_count": 3,
   "metadata": {},
   "outputs": [],
   "source": [
    "s_final['DateTime'] = s_final['Unnamed: 0'].apply(lambda x: pd.to_datetime(str(x), format='%Y-%m-%d'))\n",
    "s_final.drop(s_final[['Unnamed: 0']], axis = 1, inplace = True)\n",
    "s_final = s_final.set_index('DateTime')"
   ]
  },
  {
   "cell_type": "code",
   "execution_count": 4,
   "metadata": {},
   "outputs": [],
   "source": [
    "# num_train = int(len(s_final) * 0.7)\n",
    "# num_test = len(s_final) - num_train\n",
    "\n",
    "# train_data = s_final[:num_train]\n",
    "# test_data = s_final[num_train:]\n",
    "\n",
    "# y_train = train_data['0']\n",
    "# X_train = train_data.drop(train_data[['0', 'PM10']], axis = 1, inplace = False)\n",
    "\n",
    "# y_test = test_data['0']\n",
    "# X_test = test_data.drop(test_data[['0', 'PM10']], axis = 1, inplace = False)\n",
    "\n"
   ]
  },
  {
   "cell_type": "code",
   "execution_count": 5,
   "metadata": {},
   "outputs": [],
   "source": [
    "from sklearn.model_selection import train_test_split\n",
    "target = s_final['0']\n",
    "train = s_final.drop(s_final[['0', 'PM10']], axis = 1, inplace = False)\n",
    "X_train, X_test, y_train, y_test = train_test_split(train, target, test_size=0.3)"
   ]
  },
  {
   "cell_type": "code",
   "execution_count": 6,
   "metadata": {},
   "outputs": [],
   "source": [
    "from sklearn.model_selection import GridSearchCV\n",
    "from sklearn.model_selection import KFold\n",
    "from sklearn.metrics import confusion_matrix, classification_report\n",
    "\n",
    "#use 10 fold cross validation\n",
    "k_fold = KFold(n_splits=10, shuffle=True, random_state=0)"
   ]
  },
  {
   "cell_type": "markdown",
   "metadata": {},
   "source": [
    "# 1. KNN"
   ]
  },
  {
   "cell_type": "code",
   "execution_count": 7,
   "metadata": {},
   "outputs": [],
   "source": [
    "from sklearn.neighbors import KNeighborsClassifier\n",
    "from sklearn.model_selection import cross_val_score"
   ]
  },
  {
   "cell_type": "code",
   "execution_count": 8,
   "metadata": {},
   "outputs": [
    {
     "data": {
      "text/plain": [
       "GridSearchCV(cv=10, estimator=KNeighborsClassifier(),\n",
       "             param_grid={'n_neighbors': array([ 1,  2,  3,  4,  5,  6,  7,  8,  9, 10, 11, 12, 13, 14, 15, 16, 17,\n",
       "       18, 19, 20, 21, 22, 23, 24, 25, 26, 27, 28, 29, 30, 31, 32, 33, 34,\n",
       "       35, 36, 37, 38, 39, 40, 41, 42, 43, 44, 45, 46, 47, 48, 49, 50])},\n",
       "             return_train_score=True)"
      ]
     },
     "execution_count": 8,
     "metadata": {},
     "output_type": "execute_result"
    }
   ],
   "source": [
    "# Create KNN classifierl\n",
    "knn = KNeighborsClassifier()\n",
    "\n",
    "#create a dictionary of all values we want to test for n_neighbors\n",
    "param_grid = {'n_neighbors': np.arange(1, 51)}\n",
    "\n",
    "#use gridsearch to test all values for n_neighbors\n",
    "knn_gscv_5 = GridSearchCV(knn, param_grid, cv=5, return_train_score=True)\n",
    "knn_gscv_10 = GridSearchCV(knn, param_grid, cv=10, return_train_score=True)\n",
    "\n",
    "#fit model to data\n",
    "knn_gscv_5.fit(X_train, y_train)\n",
    "knn_gscv_10.fit(X_train, y_train)"
   ]
  },
  {
   "cell_type": "code",
   "execution_count": 9,
   "metadata": {},
   "outputs": [
    {
     "name": "stdout",
     "output_type": "stream",
     "text": [
      "cv=5 {'n_neighbors': 14}\n",
      "cv=10 {'n_neighbors': 16}\n"
     ]
    }
   ],
   "source": [
    "#check top performing n_neighbors value\n",
    "print('cv=5', knn_gscv_5.best_params_)\n",
    "print('cv=10', knn_gscv_10.best_params_)"
   ]
  },
  {
   "cell_type": "code",
   "execution_count": 10,
   "metadata": {},
   "outputs": [
    {
     "data": {
      "text/plain": [
       "array([0.72832908, 0.72655628, 0.7585409 , 0.76189474, 0.76761817,\n",
       "       0.77216323, 0.77788705, 0.77828465, 0.77966337, 0.78282348,\n",
       "       0.78222708, 0.78301915, 0.78578244, 0.78716351, 0.78657218,\n",
       "       0.78835045, 0.78420454, 0.78479664, 0.78242744, 0.78361087,\n",
       "       0.7834148 , 0.78380811, 0.78301838, 0.78262351, 0.78321756,\n",
       "       0.78222864, 0.78104365, 0.78380655, 0.78144125, 0.78045271,\n",
       "       0.77828114, 0.77966259, 0.77769059, 0.77788549, 0.77551863,\n",
       "       0.77788588, 0.77690164, 0.77847877, 0.77828231, 0.77749102,\n",
       "       0.77689813, 0.77926694, 0.77828192, 0.78025431, 0.78065112,\n",
       "       0.78143891, 0.77946691, 0.78065151, 0.77926889, 0.77887441])"
      ]
     },
     "execution_count": 10,
     "metadata": {},
     "output_type": "execute_result"
    }
   ],
   "source": [
    "# knn_val_score = cross_val_score(knn_gscv_10, X_train, y_train, cv = 10)\n",
    "# print('Average CV score:', np.mean(knn_val_score))\n",
    "knn_gscv_10.cv_results_['mean_test_score']"
   ]
  },
  {
   "cell_type": "code",
   "execution_count": 11,
   "metadata": {},
   "outputs": [
    {
     "data": {
      "image/png": "[encoded data removed]",
      "text/plain": [
       "<Figure size 720x432 with 1 Axes>"
      ]
     },
     "metadata": {
      "needs_background": "light"
     },
     "output_type": "display_data"
    }
   ],
   "source": [
    "plt.figure(figsize = [10, 6])\n",
    "plt.plot(np.arange(1, 51), knn_gscv_10.cv_results_['mean_train_score'], label = 'CV-Train Score', c = 'r')\n",
    "plt.plot(np.arange(1, 51), knn_gscv_10.cv_results_['mean_test_score'], label = 'CV-Test Score', c = 'b')\n",
    "plt.scatter(14, knn_gscv_10.cv_results_['mean_test_score'][13], label = 'Best Parameter : 14', c = 'k', s = 100)\n",
    "plt.xlabel('K Value', fontsize = 20)\n",
    "plt.ylabel('Accuracy', fontsize = 20)\n",
    "plt.legend(fontsize = 'large')\n",
    "plt.savefig('KNN_parameter_graph.png')"
   ]
  },
  {
   "cell_type": "code",
   "execution_count": 12,
   "metadata": {},
   "outputs": [
    {
     "name": "stdout",
     "output_type": "stream",
     "text": [
      "cv=5 0.7847976307996052\n",
      "cv=10 0.788350445541081\n"
     ]
    }
   ],
   "source": [
    "#check mean score for the top performing value of n_neighbors\n",
    "print('cv=5', knn_gscv_5.best_score_)\n",
    "print('cv=10', knn_gscv_10.best_score_)"
   ]
  },
  {
   "cell_type": "code",
   "execution_count": 13,
   "metadata": {},
   "outputs": [
    {
     "name": "stdout",
     "output_type": "stream",
     "text": [
      "cv=5 0.786273606632888\n",
      "cv=10 0.7890373099953938\n"
     ]
    }
   ],
   "source": [
    "# Test score\n",
    "print('cv=5', knn_gscv_5.score(X_test, y_test))\n",
    "print('cv=10', knn_gscv_10.score(X_test, y_test))"
   ]
  },
  {
   "cell_type": "code",
   "execution_count": 14,
   "metadata": {},
   "outputs": [
    {
     "name": "stdout",
     "output_type": "stream",
     "text": [
      "[[ 367  139    1    0]\n",
      " [ 108 1240   24    0]\n",
      " [   3  150  105    0]\n",
      " [   0   15   18    1]]\n"
     ]
    }
   ],
   "source": [
    "knn_y_pred = knn_gscv_10.predict(X_test)\n",
    "print(confusion_matrix(y_test, knn_y_pred))"
   ]
  },
  {
   "cell_type": "code",
   "execution_count": 15,
   "metadata": {},
   "outputs": [
    {
     "name": "stdout",
     "output_type": "stream",
     "text": [
      "              precision    recall  f1-score   support\n",
      "\n",
      "           1       0.77      0.72      0.75       507\n",
      "           2       0.80      0.90      0.85      1372\n",
      "           3       0.71      0.41      0.52       258\n",
      "           4       1.00      0.03      0.06        34\n",
      "\n",
      "    accuracy                           0.79      2171\n",
      "   macro avg       0.82      0.52      0.54      2171\n",
      "weighted avg       0.79      0.79      0.77      2171\n",
      "\n"
     ]
    }
   ],
   "source": [
    "print(classification_report(y_test, knn_y_pred))"
   ]
  },
  {
   "cell_type": "markdown",
   "metadata": {},
   "source": [
    "# 2. Support Vector Machine"
   ]
  },
  {
   "cell_type": "code",
   "execution_count": 16,
   "metadata": {},
   "outputs": [],
   "source": [
    "# Parameter 'C' explanation : https://stats.stackexchange.com/questions/31066/what-is-the-influence-of-c-in-svms-with-linear-kernel\n",
    "# Parameter 'gamma' explanation : https://scikit-learn.org/stable/auto_examples/svm/plot_rbf_parameters.html\n",
    "from sklearn.svm import SVC"
   ]
  },
  {
   "cell_type": "code",
   "execution_count": 17,
   "metadata": {},
   "outputs": [
    {
     "data": {
      "text/plain": [
       "[1e-05, 0.0001, 0.001, 0.01, 0.1, 1, 10, 100, 1000, 10000, 100000]"
      ]
     },
     "execution_count": 17,
     "metadata": {},
     "output_type": "execute_result"
    }
   ],
   "source": [
    "[10**-5, 10**-4, 10**-3, 10**-2, 10**-1, 10**0, 10**1, 10**2, 10**3, 10**4, 10**5]"
   ]
  },
  {
   "cell_type": "code",
   "execution_count": 18,
   "metadata": {},
   "outputs": [
    {
     "name": "stdout",
     "output_type": "stream",
     "text": [
      "Fitting 10 folds for each of 55 candidates, totalling 550 fits\n"
     ]
    },
    {
     "name": "stderr",
     "output_type": "stream",
     "text": [
      "[Parallel(n_jobs=4)]: Using backend LokyBackend with 4 concurrent workers.\n",
      "[Parallel(n_jobs=4)]: Done  42 tasks      | elapsed:  1.2min\n",
      "[Parallel(n_jobs=4)]: Done 192 tasks      | elapsed:  5.0min\n",
      "[Parallel(n_jobs=4)]: Done 442 tasks      | elapsed: 12.8min\n",
      "[Parallel(n_jobs=4)]: Done 550 out of 550 | elapsed: 59.8min finished\n"
     ]
    },
    {
     "data": {
      "text/plain": [
       "GridSearchCV(cv=10, estimator=SVC(probability=True), n_jobs=4,\n",
       "             param_grid={'C': [1e-05, 0.0001, 0.001, 0.01, 0.1, 1, 10, 100,\n",
       "                               1000, 10000, 100000],\n",
       "                         'gamma': [1, 0.1, 0.01, 0.001, 0.0001],\n",
       "                         'kernel': ['rbf']},\n",
       "             return_train_score=True, verbose=1)"
      ]
     },
     "execution_count": 18,
     "metadata": {},
     "output_type": "execute_result"
    }
   ],
   "source": [
    "param_grid = {'C': [10**-5, 10**-4, 10**-3, 10**-2, 10**-1, 10**0, 10**1, 10**2, 10**3, 10**4, 10**5],  \n",
    "              'gamma': [1, 0.1, 0.01, 0.001, 0.0001], \n",
    "              'kernel': ['rbf']}  \n",
    "  \n",
    "svc_gscv = GridSearchCV(SVC(probability=True), param_grid, cv = 10, n_jobs= 4, return_train_score=True, verbose = 1) \n",
    "\n",
    "# fitting the model for grid search \n",
    "svc_gscv.fit(X_train, y_train) "
   ]
  },
  {
   "cell_type": "code",
   "execution_count": 19,
   "metadata": {},
   "outputs": [
    {
     "name": "stdout",
     "output_type": "stream",
     "text": [
      "Best Parameters: {'C': 10000, 'gamma': 0.001, 'kernel': 'rbf'}\n",
      "Best Score: 0.8124388988937484\n",
      "Test Score: 0.8074619990787656\n"
     ]
    }
   ],
   "source": [
    "svc_best =  svc_gscv.best_estimator_\n",
    "print('Best Parameters:', svc_gscv.best_params_)\n",
    "print('Best Score:', svc_gscv.best_score_)\n",
    "print('Test Score:', svc_gscv.score(X_test, y_test))"
   ]
  },
  {
   "cell_type": "code",
   "execution_count": 20,
   "metadata": {},
   "outputs": [
    {
     "data": {
      "text/plain": [
       "array([0.63060201, 0.63060201, 0.63060201, 0.63060201, 0.63060201,\n",
       "       0.63060201, 0.63060201, 0.63060201, 0.63060201, 0.63060201,\n",
       "       0.63060201, 0.63060201, 0.63060201, 0.63060201, 0.63060201,\n",
       "       0.63060201, 0.63218109, 0.63060201, 0.63060201, 0.63060201,\n",
       "       0.65034536, 0.78380928, 0.75557492, 0.63060201, 0.63060201,\n",
       "       0.75775   , 0.80375143, 0.79703674, 0.76070936, 0.63139174,\n",
       "       0.75182582, 0.7974359 , 0.80552775, 0.79269476, 0.7618924 ,\n",
       "       0.75143095, 0.77294595, 0.80809575, 0.80118577, 0.79091689,\n",
       "       0.75143095, 0.73859602, 0.80059483, 0.80572811, 0.79644776,\n",
       "       0.75143095, 0.72162024, 0.79151484, 0.8124389 , 0.80000039,\n",
       "       0.75143095, 0.71924948, 0.78065268, 0.80454506, 0.80533285])"
      ]
     },
     "execution_count": 20,
     "metadata": {},
     "output_type": "execute_result"
    }
   ],
   "source": [
    "# svm_val_score = cross_val_score(svc_gscv, X_train, y_train, cv = 10)\n",
    "# print('Average CV score:', np.mean(svm_val_score))\n",
    "svc_gscv.cv_results_['mean_test_score']"
   ]
  },
  {
   "cell_type": "code",
   "execution_count": 21,
   "metadata": {},
   "outputs": [
    {
     "data": {
      "image/png": "[encoded data removed]",
      "text/plain": [
       "<Figure size 432x288 with 2 Axes>"
      ]
     },
     "metadata": {
      "needs_background": "light"
     },
     "output_type": "display_data"
    }
   ],
   "source": [
    "# c_vals = []\n",
    "# gamma_vals = []\n",
    "# for i in svc_gscv.cv_results_['params']:\n",
    "#     c_vals.append(i['C'])\n",
    "#     gamma_vals.append(i['gamma'])\n",
    "c_vals = [10**-5, 10**-4, 10**-3, 10**-2, 10**-1, 10**0, 10**1, 10**2, 10**3, 10**4, 10**5]\n",
    "gamma_vals = [1, 0.1, 0.01, 0.001, 0.0001]\n",
    "    \n",
    "test_score_lst = np.zeros([len(c_vals), len(gamma_vals)])\n",
    "\n",
    "for c_ind, c in enumerate(c_vals):\n",
    "    for g_ind, gamma in enumerate(gamma_vals):\n",
    "        test_score_ind = 5*c_ind + g_ind\n",
    "        test_score_lst[c_ind, g_ind] = svc_gscv.cv_results_['mean_test_score'][test_score_ind]\n",
    "\n",
    "# cs = plt.contourf(gamma_vals, c_vals, test_score_lst)\n",
    "# plt.colorbar(cs)\n",
    "# plt.scatter(0.001, 10000, c = 'k', s = 20, label = 'Best Test Score')\n",
    "# plt.legend(fontsize = 13)\n",
    "# plt.xlabel('gamma', fontsize = 16)\n",
    "# plt.ylabel('C', fontsize = 16)\n",
    "# # plt.savefig('svmc_c_gamma.png')\n",
    "# plt.show()\n",
    "\n",
    "cs = plt.contourf(gamma_vals, c_vals, test_score_lst)\n",
    "plt.colorbar(cs)\n",
    "plt.scatter(0.001, 10000, c = 'k', s = 20, label = 'Best Parameter')\n",
    "plt.legend(fontsize = 13)\n",
    "plt.xlabel('gamma', fontsize = 16)\n",
    "plt.ylabel('C', fontsize = 16)\n",
    "plt.axis([0,0.015,8000,11000])\n",
    "# plt.savefig('svmc_c_gamma_zoomed.png')\n",
    "plt.show()"
   ]
  },
  {
   "cell_type": "code",
   "execution_count": 22,
   "metadata": {},
   "outputs": [
    {
     "name": "stdout",
     "output_type": "stream",
     "text": [
      "[[ 374  133    0    0]\n",
      " [  94 1247   31    0]\n",
      " [   2  127  128    1]\n",
      " [   0   17   13    4]]\n"
     ]
    }
   ],
   "source": [
    "svc_y_pred = svc_gscv.predict(X_test)\n",
    "print(confusion_matrix(y_test, svc_y_pred))"
   ]
  },
  {
   "cell_type": "code",
   "execution_count": 23,
   "metadata": {},
   "outputs": [
    {
     "name": "stdout",
     "output_type": "stream",
     "text": [
      "              precision    recall  f1-score   support\n",
      "\n",
      "           1       0.80      0.74      0.77       507\n",
      "           2       0.82      0.91      0.86      1372\n",
      "           3       0.74      0.50      0.60       258\n",
      "           4       0.80      0.12      0.21        34\n",
      "\n",
      "    accuracy                           0.81      2171\n",
      "   macro avg       0.79      0.57      0.61      2171\n",
      "weighted avg       0.80      0.81      0.80      2171\n",
      "\n"
     ]
    }
   ],
   "source": [
    "print(classification_report(y_test, svc_y_pred))"
   ]
  },
  {
   "cell_type": "markdown",
   "metadata": {},
   "source": [
    "# 3. Random Forest"
   ]
  },
  {
   "cell_type": "code",
   "execution_count": 24,
   "metadata": {},
   "outputs": [],
   "source": [
    "from sklearn.ensemble import RandomForestClassifier"
   ]
  },
  {
   "cell_type": "code",
   "execution_count": 25,
   "metadata": {},
   "outputs": [
    {
     "name": "stdout",
     "output_type": "stream",
     "text": [
      "Fitting 10 folds for each of 36 candidates, totalling 360 fits\n"
     ]
    },
    {
     "name": "stderr",
     "output_type": "stream",
     "text": [
      "[Parallel(n_jobs=4)]: Using backend LokyBackend with 4 concurrent workers.\n",
      "[Parallel(n_jobs=4)]: Done  42 tasks      | elapsed:   40.2s\n",
      "[Parallel(n_jobs=4)]: Done 192 tasks      | elapsed:  2.8min\n",
      "[Parallel(n_jobs=4)]: Done 360 out of 360 | elapsed:  5.4min finished\n"
     ]
    },
    {
     "name": "stdout",
     "output_type": "stream",
     "text": [
      "RandomForestClassifier(max_depth=16, min_samples_split=3, n_estimators=200)\n",
      "0.8053297315839121\n"
     ]
    }
   ],
   "source": [
    "RFC = RandomForestClassifier()\n",
    "\n",
    "\n",
    "## Search grid for optimal parameters\n",
    "# rf_param_grid = {\"max_depth\": [13, 16, 19],\n",
    "#               \"max_features\": ['auto'],\n",
    "#               \"min_samples_split\": [2, 3, 8],\n",
    "#               \"min_samples_leaf\": [1, 3, 8],\n",
    "#               \"bootstrap\": [True],\n",
    "#               \"n_estimators\" :[100,200,300],\n",
    "#               \"criterion\": [\"gini\"]}\n",
    "\n",
    "rf_param_grid = {\"max_depth\": [16, 19],\n",
    "              \"max_features\": ['auto'],\n",
    "              \"min_samples_split\": [2, 3, 8],\n",
    "              \"min_samples_leaf\": [1, 3, 8],\n",
    "              \"bootstrap\": [True],\n",
    "              \"n_estimators\" :[200,300]}\n",
    "\n",
    "\n",
    "rfc_gscv = GridSearchCV(RFC, rf_param_grid, cv=10, scoring=\"accuracy\",  verbose = 1, n_jobs=4)\n",
    "#print(score)\n",
    "\n",
    "rfc_gscv.fit(X_train, y_train)\n",
    "\n",
    "rfc_best = rfc_gscv.best_estimator_\n",
    "print(rfc_best)\n",
    "# Best score\n",
    "print(rfc_gscv.best_score_)"
   ]
  },
  {
   "cell_type": "code",
   "execution_count": 26,
   "metadata": {},
   "outputs": [
    {
     "name": "stdout",
     "output_type": "stream",
     "text": [
      "Best Parameters: {'bootstrap': True, 'max_depth': 16, 'max_features': 'auto', 'min_samples_leaf': 1, 'min_samples_split': 3, 'n_estimators': 200}\n",
      "Best Score: 0.8053297315839121\n",
      "Test Score: 0.8070013818516812\n"
     ]
    }
   ],
   "source": [
    "print('Best Parameters:', rfc_gscv.best_params_)\n",
    "print('Best Score:', rfc_gscv.best_score_)\n",
    "print('Test Score:', rfc_gscv.score(X_test, y_test))"
   ]
  },
  {
   "cell_type": "code",
   "execution_count": 27,
   "metadata": {},
   "outputs": [
    {
     "data": {
      "text/plain": [
       "array([0.80256527, 0.80236491, 0.80532973, 0.80276095, 0.80256371,\n",
       "       0.80216846, 0.79979886, 0.8017732 , 0.80118187, 0.80078428,\n",
       "       0.80374909, 0.7999961 , 0.79762417, 0.79762534, 0.79624389,\n",
       "       0.79881189, 0.79545377, 0.80018983, 0.80177554, 0.80296014,\n",
       "       0.80295858, 0.80414318, 0.80355147, 0.80295858, 0.80177359,\n",
       "       0.80276251, 0.80118226, 0.80098385, 0.80276056, 0.80118031,\n",
       "       0.7992052 , 0.80019373, 0.79604587, 0.7992052 , 0.79802177,\n",
       "       0.80039019])"
      ]
     },
     "execution_count": 27,
     "metadata": {},
     "output_type": "execute_result"
    }
   ],
   "source": [
    "rfc_gscv.cv_results_['mean_test_score']"
   ]
  },
  {
   "cell_type": "code",
   "execution_count": 28,
   "metadata": {},
   "outputs": [
    {
     "name": "stdout",
     "output_type": "stream",
     "text": [
      "[[ 362  145    0    0]\n",
      " [  79 1256   37    0]\n",
      " [   3  122  133    0]\n",
      " [   0   18   15    1]]\n"
     ]
    }
   ],
   "source": [
    "rfc_y_pred = rfc_gscv.predict(X_test)\n",
    "print(confusion_matrix(y_test, rfc_y_pred))"
   ]
  },
  {
   "cell_type": "code",
   "execution_count": 29,
   "metadata": {},
   "outputs": [
    {
     "name": "stdout",
     "output_type": "stream",
     "text": [
      "              precision    recall  f1-score   support\n",
      "\n",
      "           1       0.82      0.71      0.76       507\n",
      "           2       0.82      0.92      0.86      1372\n",
      "           3       0.72      0.52      0.60       258\n",
      "           4       1.00      0.03      0.06        34\n",
      "\n",
      "    accuracy                           0.81      2171\n",
      "   macro avg       0.84      0.54      0.57      2171\n",
      "weighted avg       0.81      0.81      0.80      2171\n",
      "\n"
     ]
    }
   ],
   "source": [
    "print(classification_report(y_test, rfc_y_pred))"
   ]
  },
  {
   "cell_type": "markdown",
   "metadata": {},
   "source": [
    "# 4. Multiple Layer Perceptron"
   ]
  },
  {
   "cell_type": "code",
   "execution_count": 30,
   "metadata": {},
   "outputs": [],
   "source": [
    "from sklearn.neural_network import MLPClassifier"
   ]
  },
  {
   "cell_type": "code",
   "execution_count": 31,
   "metadata": {},
   "outputs": [
    {
     "name": "stdout",
     "output_type": "stream",
     "text": [
      "MLPClassifier(alpha=1e-08, hidden_layer_sizes=11, max_iter=1000, random_state=1,\n",
      "              solver='lbfgs')\n",
      "0.808684347982007\n"
     ]
    },
    {
     "name": "stderr",
     "output_type": "stream",
     "text": [
      "C:\\Users\\rnwns\\anaconda3\\lib\\site-packages\\sklearn\\neural_network\\_multilayer_perceptron.py:471: ConvergenceWarning: lbfgs failed to converge (status=1):\n",
      "STOP: TOTAL NO. of ITERATIONS REACHED LIMIT.\n",
      "\n",
      "Increase the number of iterations (max_iter) or scale the data as shown in:\n",
      "    https://scikit-learn.org/stable/modules/preprocessing.html\n",
      "  self.n_iter_ = _check_optimize_result(\"lbfgs\", opt_res, self.max_iter)\n"
     ]
    }
   ],
   "source": [
    "### MLP classifier\n",
    "mlp = MLPClassifier()\n",
    "parameters = {'solver': ['lbfgs', 'adam'], 'max_iter': [900, 1000], 'alpha': 10.0 ** -np.arange(6, 10), 'hidden_layer_sizes':np.arange(9, 13), 'random_state':[1]}\n",
    "\n",
    "\n",
    "mlp_gscv = GridSearchCV(mlp, param_grid = parameters, cv=k_fold, n_jobs= -1)\n",
    "\n",
    "mlp_gscv.fit(X_train, y_train)\n",
    "\n",
    "MLP_best = mlp_gscv.best_estimator_\n",
    "print(MLP_best)\n",
    "\n",
    "# Best score\n",
    "print(mlp_gscv.best_score_)"
   ]
  },
  {
   "cell_type": "code",
   "execution_count": 32,
   "metadata": {},
   "outputs": [
    {
     "name": "stdout",
     "output_type": "stream",
     "text": [
      "Best Parameters: {'alpha': 1e-08, 'hidden_layer_sizes': 11, 'max_iter': 1000, 'random_state': 1, 'solver': 'lbfgs'}\n",
      "Best Score: 0.808684347982007\n",
      "Test Score: 0.7959465684016582\n"
     ]
    }
   ],
   "source": [
    "print('Best Parameters:', mlp_gscv.best_params_)\n",
    "print('Best Score:', mlp_gscv.best_score_)\n",
    "print('Test Score:', mlp_gscv.score(X_test, y_test))"
   ]
  },
  {
   "cell_type": "code",
   "execution_count": 33,
   "metadata": {
    "scrolled": true
   },
   "outputs": [
    {
     "data": {
      "text/plain": [
       "array([0.80473217, 0.80493331, 0.80453493, 0.80493331, 0.79723008,\n",
       "       0.80454117, 0.79742849, 0.80454117, 0.80552502, 0.80394906,\n",
       "       0.80532739, 0.80394906, 0.80197512, 0.80414552, 0.80039643,\n",
       "       0.80414552, 0.80631242, 0.80513093, 0.8057207 , 0.80513093,\n",
       "       0.8007835 , 0.80473841, 0.80098035, 0.80473841, 0.80611752,\n",
       "       0.8031605 , 0.80651277, 0.8031605 , 0.80059133, 0.80375026,\n",
       "       0.7994075 , 0.80375026, 0.80611479, 0.80513093, 0.80650927,\n",
       "       0.80513093, 0.79763041, 0.80473841, 0.79743395, 0.80473841,\n",
       "       0.80769621, 0.8031605 , 0.80868435, 0.8031605 , 0.80118148,\n",
       "       0.80375026, 0.79980042, 0.80375026, 0.80670767, 0.80513093,\n",
       "       0.8057207 , 0.80513093, 0.79881033, 0.80473841, 0.79802216,\n",
       "       0.80473841, 0.80354952, 0.8031605 , 0.80433886, 0.8031605 ,\n",
       "       0.80138106, 0.80375026, 0.80118499, 0.80375026])"
      ]
     },
     "execution_count": 33,
     "metadata": {},
     "output_type": "execute_result"
    }
   ],
   "source": [
    "mlp_gscv.cv_results_['mean_test_score']"
   ]
  },
  {
   "cell_type": "code",
   "execution_count": 34,
   "metadata": {},
   "outputs": [
    {
     "name": "stdout",
     "output_type": "stream",
     "text": [
      "[[ 371  135    1    0]\n",
      " [ 102 1220   49    1]\n",
      " [   2  116  133    7]\n",
      " [   0   11   19    4]]\n"
     ]
    }
   ],
   "source": [
    "mlp_y_pred = mlp_gscv.predict(X_test)\n",
    "print(confusion_matrix(y_test, mlp_y_pred))"
   ]
  },
  {
   "cell_type": "code",
   "execution_count": 35,
   "metadata": {},
   "outputs": [
    {
     "name": "stdout",
     "output_type": "stream",
     "text": [
      "              precision    recall  f1-score   support\n",
      "\n",
      "           1       0.78      0.73      0.76       507\n",
      "           2       0.82      0.89      0.85      1372\n",
      "           3       0.66      0.52      0.58       258\n",
      "           4       0.33      0.12      0.17        34\n",
      "\n",
      "    accuracy                           0.80      2171\n",
      "   macro avg       0.65      0.56      0.59      2171\n",
      "weighted avg       0.79      0.80      0.79      2171\n",
      "\n"
     ]
    }
   ],
   "source": [
    "print(classification_report(y_test, mlp_y_pred))"
   ]
  },
  {
   "cell_type": "markdown",
   "metadata": {},
   "source": [
    "# 5. Gradient Boosting Classifier"
   ]
  },
  {
   "cell_type": "code",
   "execution_count": 36,
   "metadata": {},
   "outputs": [],
   "source": [
    "from sklearn.ensemble import GradientBoostingClassifier"
   ]
  },
  {
   "cell_type": "code",
   "execution_count": 37,
   "metadata": {},
   "outputs": [
    {
     "name": "stdout",
     "output_type": "stream",
     "text": [
      "Fitting 10 folds for each of 72 candidates, totalling 720 fits\n"
     ]
    },
    {
     "name": "stderr",
     "output_type": "stream",
     "text": [
      "[Parallel(n_jobs=4)]: Using backend LokyBackend with 4 concurrent workers.\n",
      "[Parallel(n_jobs=4)]: Done  42 tasks      | elapsed:  1.3min\n",
      "[Parallel(n_jobs=4)]: Done 192 tasks      | elapsed:  6.0min\n",
      "[Parallel(n_jobs=4)]: Done 442 tasks      | elapsed: 12.6min\n",
      "[Parallel(n_jobs=4)]: Done 720 out of 720 | elapsed: 20.5min finished\n"
     ]
    },
    {
     "name": "stdout",
     "output_type": "stream",
     "text": [
      "GradientBoostingClassifier(learning_rate=0.05, max_depth=8, max_features=0.3,\n",
      "                           min_samples_leaf=150, n_estimators=300)\n",
      "0.8080945810042801\n"
     ]
    }
   ],
   "source": [
    "GBC = GradientBoostingClassifier()\n",
    "gb_param_grid = {'loss' : [\"deviance\"],\n",
    "              'n_estimators' : [100,200,300],\n",
    "              'learning_rate': [0.1, 0.05, 0.01],\n",
    "              'max_depth': [4, 8],\n",
    "              'min_samples_leaf': [100,150],\n",
    "              'max_features': [0.3, 0.1] \n",
    "              }\n",
    "\n",
    "gbc_gscv = GridSearchCV(GBC,param_grid = gb_param_grid, cv=10, scoring=\"accuracy\", n_jobs= 4, verbose = 1)\n",
    "\n",
    "gbc_gscv.fit(X_train, y_train)\n",
    "\n",
    "GBC_best = gbc_gscv.best_estimator_\n",
    "print(GBC_best)\n",
    "# Best score\n",
    "print(gbc_gscv.best_score_)"
   ]
  },
  {
   "cell_type": "code",
   "execution_count": 38,
   "metadata": {},
   "outputs": [
    {
     "name": "stdout",
     "output_type": "stream",
     "text": [
      "Best Parameters: {'learning_rate': 0.05, 'loss': 'deviance', 'max_depth': 8, 'max_features': 0.3, 'min_samples_leaf': 150, 'n_estimators': 300}\n",
      "Best Score: 0.8080945810042801\n",
      "Test Score: 0.8023952095808383\n"
     ]
    }
   ],
   "source": [
    "print('Best Parameters:', gbc_gscv.best_params_)\n",
    "print('Best Score:', gbc_gscv.best_score_)\n",
    "print('Test Score:', gbc_gscv.score(X_test, y_test))"
   ]
  },
  {
   "cell_type": "code",
   "execution_count": 39,
   "metadata": {},
   "outputs": [
    {
     "data": {
      "text/plain": [
       "array([0.8053309 , 0.80611713, 0.80493486, 0.80315543, 0.80591911,\n",
       "       0.80276134, 0.80078467, 0.80177827, 0.80374753, 0.79703401,\n",
       "       0.8031566 , 0.80414201, 0.80434588, 0.80098658, 0.7994075 ,\n",
       "       0.8027629 , 0.80454   , 0.79900952, 0.80414318, 0.80710371,\n",
       "       0.80631748, 0.80098463, 0.80453493, 0.80256449, 0.80216963,\n",
       "       0.80473841, 0.80355147, 0.80216768, 0.80315582, 0.80493136,\n",
       "       0.79407193, 0.7986166 , 0.80473919, 0.79367316, 0.79782531,\n",
       "       0.80177203, 0.80493408, 0.80750209, 0.80513639, 0.80592106,\n",
       "       0.80750248, 0.80809458, 0.8027629 , 0.80236608, 0.8053309 ,\n",
       "       0.79663681, 0.80137716, 0.80236608, 0.76939176, 0.79091182,\n",
       "       0.7984139 , 0.76780995, 0.78834421, 0.7946613 , 0.72654731,\n",
       "       0.77038029, 0.78578128, 0.72062313, 0.76761427, 0.78558014,\n",
       "       0.77886701, 0.79584746, 0.80355147, 0.77393292, 0.79387274,\n",
       "       0.80196927, 0.74984369, 0.78617575, 0.79643879, 0.73918462,\n",
       "       0.77985476, 0.79288304])"
      ]
     },
     "execution_count": 39,
     "metadata": {},
     "output_type": "execute_result"
    }
   ],
   "source": [
    "gbc_gscv.cv_results_['mean_test_score']"
   ]
  },
  {
   "cell_type": "code",
   "execution_count": 40,
   "metadata": {},
   "outputs": [
    {
     "name": "stdout",
     "output_type": "stream",
     "text": [
      "[[ 375  131    1    0]\n",
      " [ 104 1221   46    1]\n",
      " [   2  110  145    1]\n",
      " [   0   16   17    1]]\n"
     ]
    }
   ],
   "source": [
    "gbc_y_pred = gbc_gscv.predict(X_test)\n",
    "print(confusion_matrix(y_test, gbc_y_pred))"
   ]
  },
  {
   "cell_type": "code",
   "execution_count": 41,
   "metadata": {},
   "outputs": [
    {
     "name": "stdout",
     "output_type": "stream",
     "text": [
      "              precision    recall  f1-score   support\n",
      "\n",
      "           1       0.78      0.74      0.76       507\n",
      "           2       0.83      0.89      0.86      1372\n",
      "           3       0.69      0.56      0.62       258\n",
      "           4       0.33      0.03      0.05        34\n",
      "\n",
      "    accuracy                           0.80      2171\n",
      "   macro avg       0.66      0.56      0.57      2171\n",
      "weighted avg       0.79      0.80      0.79      2171\n",
      "\n"
     ]
    }
   ],
   "source": [
    "print(classification_report(y_test, gbc_y_pred))"
   ]
  },
  {
   "cell_type": "code",
   "execution_count": 42,
   "metadata": {},
   "outputs": [
    {
     "name": "stdout",
     "output_type": "stream",
     "text": [
      "GBC 0.8080945810042801\n",
      "MLP 0.808684347982007\n",
      "RFC 0.8053297315839121\n",
      "SVC 0.8124388988937484\n",
      "KNN 0.788350445541081\n"
     ]
    }
   ],
   "source": [
    "print('GBC', gbc_gscv.best_score_)\n",
    "print('MLP', mlp_gscv.best_score_)\n",
    "print('RFC', rfc_gscv.best_score_)\n",
    "print(\"SVC\", svc_gscv.best_score_)\n",
    "print('KNN', knn_gscv_10.best_score_)"
   ]
  },
  {
   "cell_type": "code",
   "execution_count": 43,
   "metadata": {},
   "outputs": [],
   "source": [
    "from sklearn.ensemble import VotingClassifier\n",
    "import itertools"
   ]
  },
  {
   "cell_type": "code",
   "execution_count": 44,
   "metadata": {},
   "outputs": [
    {
     "name": "stdout",
     "output_type": "stream",
     "text": [
      "Combination 5 10\r"
     ]
    }
   ],
   "source": [
    "arr = [('rfc', rfc_best), ('svc', svc_best),('gbc',GBC_best),  ('mlp', MLP_best), ('knn', knn_gscv_10.best_estimator_)]\n",
    "\n",
    "results_2 = []\n",
    "for i in range(len(list(itertools.combinations(arr,2)))):\n",
    "    print('Combination 2',i+1, end=\"\\r\")\n",
    "    estimator_2 = [list(itertools.combinations(arr,2))[i][0],list(itertools.combinations(arr,2))[i][1]]\n",
    "    combination_2 = [list(itertools.combinations(arr,2))[i][0][0], list(itertools.combinations(arr,2))[i][1][0]]\n",
    "    hard_votingC = VotingClassifier(estimators = estimator_2, voting='hard', n_jobs=4)\n",
    "    hard_votingC = hard_votingC.fit(X_train, y_train)\n",
    "    hard_predict = hard_votingC.predict(X_test)\n",
    "    train_score =  hard_votingC.score(X_train, y_train)\n",
    "    test_score = hard_votingC.score(X_test, y_test)\n",
    "    \n",
    "    results_2.append([combination_2, train_score, test_score])\n",
    "    \n",
    "results_3 = []\n",
    "for i in range(len(list(itertools.combinations(arr,3)))):\n",
    "    print('Combination 3',i+1, end=\"\\r\")\n",
    "    estimator_3 = [list(itertools.combinations(arr,3))[i][0],list(itertools.combinations(arr,3))[i][1], list(itertools.combinations(arr,3))[i][2]]\n",
    "    combination_3 = [list(itertools.combinations(arr,3))[i][0][0], list(itertools.combinations(arr,3))[i][1][0], list(itertools.combinations(arr,3))[i][2][0]]\n",
    "    hard_votingC = VotingClassifier(estimators = estimator_3, voting='hard', n_jobs=4)\n",
    "    hard_votingC = hard_votingC.fit(X_train, y_train)\n",
    "    hard_predict = hard_votingC.predict(X_test)\n",
    "    train_score =  hard_votingC.score(X_train, y_train)\n",
    "    test_score = hard_votingC.score(X_test, y_test)\n",
    "    \n",
    "    results_3.append([combination_3, train_score, test_score])\n",
    "\n",
    "results_4 = []\n",
    "for i in range(len(list(itertools.combinations(arr,4)))):\n",
    "    print('Combination 4',i+1, end=\"\\r\")\n",
    "    estimator_4 = [list(itertools.combinations(arr,4))[i][0],list(itertools.combinations(arr,4))[i][1], list(itertools.combinations(arr,4))[i][2], list(itertools.combinations(arr,4))[i][3]]\n",
    "    combination_4 = [list(itertools.combinations(arr,4))[i][0][0], list(itertools.combinations(arr,4))[i][1][0], list(itertools.combinations(arr,4))[i][2][0], list(itertools.combinations(arr,4))[i][3][0]]\n",
    "    hard_votingC = VotingClassifier(estimators = estimator_4, voting='hard', n_jobs=4)\n",
    "    hard_votingC = hard_votingC.fit(X_train, y_train)\n",
    "    hard_predict = hard_votingC.predict(X_test)\n",
    "    train_score =  hard_votingC.score(X_train, y_train)\n",
    "    test_score = hard_votingC.score(X_test, y_test)\n",
    "    \n",
    "    results_4.append([combination_4, train_score, test_score])\n",
    "    \n",
    "results_5 = []\n",
    "for i in range(len(list(itertools.combinations(arr,5)))):\n",
    "    print('Combination 5',i+1, end=\"\\r\")\n",
    "    estimator_5 = [list(itertools.combinations(arr,5))[i][0],list(itertools.combinations(arr,5))[i][1], list(itertools.combinations(arr,5))[i][2], list(itertools.combinations(arr,5))[i][3], list(itertools.combinations(arr,5))[i][4]]\n",
    "    combination_5 = [list(itertools.combinations(arr,5))[i][0][0], list(itertools.combinations(arr,5))[i][1][0], list(itertools.combinations(arr,5))[i][2][0], list(itertools.combinations(arr,5))[i][3][0], list(itertools.combinations(arr,5))[i][4][0]]\n",
    "    hard_votingC = VotingClassifier(estimators = estimator_5, voting='hard', n_jobs=4)\n",
    "    hard_votingC = hard_votingC.fit(X_train, y_train)\n",
    "    hard_predict = hard_votingC.predict(X_test)\n",
    "    train_score =  hard_votingC.score(X_train, y_train)\n",
    "    test_score = hard_votingC.score(X_test, y_test)\n",
    "    \n",
    "    results_5.append([combination_5, train_score, test_score])"
   ]
  },
  {
   "cell_type": "code",
   "execution_count": 45,
   "metadata": {},
   "outputs": [
    {
     "name": "stdout",
     "output_type": "stream",
     "text": [
      "Hard Voting Results\n",
      "Combination, train score, test score\n",
      "[['rfc', 'svc'], 0.8923988153998026, 0.8079226163058498]\n",
      "[['rfc', 'gbc'], 0.9563672260612044, 0.8051589129433441]\n",
      "[['rfc', 'mlp'], 0.8957551826258637, 0.8093044679871028]\n",
      "[['rfc', 'knn'], 0.8742349457058243, 0.7977890373099954]\n",
      "[['svc', 'gbc'], 0.863376110562685, 0.8033164440350069]\n",
      "[['svc', 'mlp'], 0.8258637709772951, 0.8033164440350069]\n",
      "[['svc', 'knn'], 0.8126357354392892, 0.7941040994933211]\n",
      "[['gbc', 'mlp'], 0.869299111549852, 0.8028558268079227]\n",
      "[['gbc', 'knn'], 0.8499506416584403, 0.7918010133578995]\n",
      "[['mlp', 'knn'], 0.8153998025666338, 0.7936434822662367]\n",
      "\n",
      "[['rfc', 'svc', 'gbc'], 0.9354392892398815, 0.8226623675725472]\n",
      "[['rfc', 'svc', 'mlp'], 0.8556762092793682, 0.8129894058037771]\n",
      "[['rfc', 'svc', 'knn'], 0.8627838104639685, 0.8088438507600184]\n",
      "[['rfc', 'gbc', 'mlp'], 0.9360315893385982, 0.8125287885766928]\n",
      "[['rfc', 'gbc', 'knn'], 0.9389930898321817, 0.8106863196683556]\n",
      "[['rfc', 'mlp', 'knn'], 0.8732477788746298, 0.8088438507600184]\n",
      "[['svc', 'gbc', 'mlp'], 0.8487660414610069, 0.8125287885766928]\n",
      "[['svc', 'gbc', 'knn'], 0.8540967423494571, 0.8116075541225242]\n",
      "[['svc', 'mlp', 'knn'], 0.8272458045409674, 0.8102257024412713]\n",
      "[['gbc', 'mlp', 'knn'], 0.863376110562685, 0.8139106402579457]\n",
      "\n",
      "[['rfc', 'svc', 'gbc', 'mlp'], 0.884106614017769, 0.8129894058037771]\n",
      "[['rfc', 'svc', 'gbc', 'knn'], 0.884106614017769, 0.8106863196683556]\n",
      "[['rfc', 'svc', 'mlp', 'knn'], 0.8537018756169793, 0.8070013818516812]\n",
      "[['rfc', 'gbc', 'mlp', 'knn'], 0.8920039486673248, 0.8083832335329342]\n",
      "[['svc', 'gbc', 'mlp', 'knn'], 0.8483711747285291, 0.8111469368954399]\n",
      "\n",
      "[['rfc', 'svc', 'gbc', 'mlp', 'knn'], 0.8716683119447186, 0.81759557807462]\n"
     ]
    }
   ],
   "source": [
    "print('Hard Voting Results')\n",
    "print('Combination, train score, test score')\n",
    "for i in results_2:\n",
    "    print(i)\n",
    "print()  \n",
    "for i in results_3:\n",
    "    print(i)\n",
    "print()   \n",
    "for i in results_4:\n",
    "    print(i)\n",
    "print()   \n",
    "for i in results_5:\n",
    "    print(i)"
   ]
  },
  {
   "cell_type": "code",
   "execution_count": 46,
   "metadata": {},
   "outputs": [
    {
     "name": "stdout",
     "output_type": "stream",
     "text": [
      "Combination 5 10\r"
     ]
    }
   ],
   "source": [
    "s_results_2 = []\n",
    "for i in range(len(list(itertools.combinations(arr,2)))):\n",
    "    print('Combination 2',i+1, end=\"\\r\")\n",
    "    estimator_2 = [list(itertools.combinations(arr,2))[i][0],list(itertools.combinations(arr,2))[i][1]]\n",
    "    combination_2 = [list(itertools.combinations(arr,2))[i][0][0], list(itertools.combinations(arr,2))[i][1][0]]\n",
    "    soft_votingC = VotingClassifier(estimators = estimator_2, voting='soft', n_jobs=4)\n",
    "    soft_votingC = soft_votingC.fit(X_train, y_train)\n",
    "    soft_predict = soft_votingC.predict(X_test)\n",
    "    train_score =  soft_votingC.score(X_train, y_train)\n",
    "    test_score = soft_votingC.score(X_test, y_test)\n",
    "    \n",
    "    s_results_2.append([combination_2, train_score, test_score])\n",
    "    \n",
    "s_results_3 = []\n",
    "for i in range(len(list(itertools.combinations(arr,3)))):\n",
    "    print('Combination 3',i+1, end=\"\\r\")\n",
    "    estimator_3 = [list(itertools.combinations(arr,3))[i][0],list(itertools.combinations(arr,3))[i][1], list(itertools.combinations(arr,3))[i][2]]\n",
    "    combination_3 = [list(itertools.combinations(arr,3))[i][0][0], list(itertools.combinations(arr,3))[i][1][0], list(itertools.combinations(arr,3))[i][2][0]]\n",
    "    soft_votingC = VotingClassifier(estimators = estimator_3, voting='soft', n_jobs=4)\n",
    "    soft_votingC = soft_votingC.fit(X_train, y_train)\n",
    "    soft_predict = soft_votingC.predict(X_test)\n",
    "    train_score =  soft_votingC.score(X_train, y_train)\n",
    "    test_score = soft_votingC.score(X_test, y_test)\n",
    "    \n",
    "    s_results_3.append([combination_3, train_score, test_score])\n",
    "\n",
    "s_results_4 = []\n",
    "for i in range(len(list(itertools.combinations(arr,4)))):\n",
    "    print('Combination 4',i+1, end=\"\\r\")\n",
    "    estimator_4 = [list(itertools.combinations(arr,4))[i][0],list(itertools.combinations(arr,4))[i][1], list(itertools.combinations(arr,4))[i][2], list(itertools.combinations(arr,4))[i][3]]\n",
    "    combination_4 = [list(itertools.combinations(arr,4))[i][0][0], list(itertools.combinations(arr,4))[i][1][0], list(itertools.combinations(arr,4))[i][2][0], list(itertools.combinations(arr,4))[i][3][0]]\n",
    "    soft_votingC = VotingClassifier(estimators = estimator_4, voting='soft', n_jobs=4)\n",
    "    soft_votingC = soft_votingC.fit(X_train, y_train)\n",
    "    soft_predict = soft_votingC.predict(X_test)\n",
    "    train_score =  soft_votingC.score(X_train, y_train)\n",
    "    test_score = soft_votingC.score(X_test, y_test)\n",
    "    \n",
    "    s_results_4.append([combination_4, train_score, test_score])\n",
    "    \n",
    "s_results_5 = []\n",
    "for i in range(len(list(itertools.combinations(arr,5)))):\n",
    "    print('Combination 5',i+1, end=\"\\r\")\n",
    "    estimator_5 = [list(itertools.combinations(arr,5))[i][0],list(itertools.combinations(arr,5))[i][1], list(itertools.combinations(arr,5))[i][2], list(itertools.combinations(arr,5))[i][3], list(itertools.combinations(arr,5))[i][4]]\n",
    "    combination_5 = [list(itertools.combinations(arr,5))[i][0][0], list(itertools.combinations(arr,5))[i][1][0], list(itertools.combinations(arr,5))[i][2][0], list(itertools.combinations(arr,5))[i][3][0], list(itertools.combinations(arr,5))[i][4][0]]\n",
    "    soft_votingC = VotingClassifier(estimators = estimator_5, voting='soft', n_jobs=4)\n",
    "    soft_votingC = soft_votingC.fit(X_train, y_train)\n",
    "    soft_predict = soft_votingC.predict(X_test)\n",
    "    train_score =  soft_votingC.score(X_train, y_train)\n",
    "    test_score = soft_votingC.score(X_test, y_test)\n",
    "    \n",
    "    s_results_5.append([combination_5, train_score, test_score])"
   ]
  },
  {
   "cell_type": "code",
   "execution_count": 47,
   "metadata": {},
   "outputs": [
    {
     "name": "stdout",
     "output_type": "stream",
     "text": [
      "Soft Voting Results\n",
      "Combination, train score, test score\n",
      "[['rfc', 'svc'], 0.904639684106614, 0.8148318747121143]\n",
      "[['rfc', 'gbc'], 0.968213228035538, 0.8079226163058498]\n",
      "[['rfc', 'mlp'], 0.9133267522211254, 0.8102257024412713]\n",
      "[['rfc', 'knn'], 0.9216189536031589, 0.8042376784891755]\n",
      "[['svc', 'gbc'], 0.8720631786771964, 0.809765085214187]\n",
      "[['svc', 'mlp'], 0.828035538005923, 0.806540764624597]\n",
      "[['svc', 'knn'], 0.8240868706811452, 0.8070013818516812]\n",
      "[['gbc', 'mlp'], 0.8817374136229023, 0.8116075541225242]\n",
      "[['gbc', 'knn'], 0.8876604146100691, 0.8079226163058498]\n",
      "[['mlp', 'knn'], 0.8292201382033564, 0.8079226163058498]\n",
      "\n",
      "[['rfc', 'svc', 'gbc'], 0.9220138203356367, 0.8157531091662829]\n",
      "[['rfc', 'svc', 'mlp'], 0.8791707798617966, 0.8134500230308613]\n",
      "[['rfc', 'svc', 'knn'], 0.8819348469891412, 0.8093044679871028]\n",
      "[['rfc', 'gbc', 'mlp'], 0.9239881539980257, 0.8148318747121143]\n",
      "[['rfc', 'gbc', 'knn'], 0.9291214215202369, 0.8116075541225242]\n",
      "[['rfc', 'mlp', 'knn'], 0.8856860809476802, 0.8120681713496085]\n",
      "[['svc', 'gbc', 'mlp'], 0.8576505429417571, 0.8152924919391985]\n",
      "[['svc', 'gbc', 'knn'], 0.8612043435340573, 0.8125287885766928]\n",
      "[['svc', 'mlp', 'knn'], 0.8315893385982231, 0.8102257024412713]\n",
      "[['gbc', 'mlp', 'knn'], 0.8635735439289239, 0.809765085214187]\n",
      "\n",
      "[['rfc', 'svc', 'gbc', 'mlp'], 0.8945705824284303, 0.8134500230308613]\n",
      "[['rfc', 'svc', 'gbc', 'knn'], 0.8989141164856861, 0.8120681713496085]\n",
      "[['rfc', 'svc', 'mlp', 'knn'], 0.8665350444225074, 0.8139106402579457]\n",
      "[['rfc', 'gbc', 'mlp', 'knn'], 0.9040473840078973, 0.8125287885766928]\n",
      "[['svc', 'gbc', 'mlp', 'knn'], 0.852319842053307, 0.8139106402579457]\n",
      "\n",
      "[['rfc', 'svc', 'gbc', 'mlp', 'knn'], 0.87857847976308, 0.8157531091662829]\n"
     ]
    }
   ],
   "source": [
    "print('Soft Voting Results')\n",
    "print('Combination, train score, test score')\n",
    "for i in s_results_2:\n",
    "    print(i)\n",
    "print()  \n",
    "for i in s_results_3:\n",
    "    print(i)\n",
    "print()   \n",
    "for i in s_results_4:\n",
    "    print(i)\n",
    "print()   \n",
    "for i in s_results_5:\n",
    "    print(i)"
   ]
  },
  {
   "cell_type": "markdown",
   "metadata": {},
   "source": [
    "# Voting: Hard Voting"
   ]
  },
  {
   "cell_type": "code",
   "execution_count": 48,
   "metadata": {},
   "outputs": [
    {
     "name": "stdout",
     "output_type": "stream",
     "text": [
      "Hard voting 0.8720631786771964\n",
      "Hard voting test score 0.8148318747121143\n",
      "\n",
      "Confusion Matrix\n",
      "[[ 375  131    1    0]\n",
      " [  84 1258   30    0]\n",
      " [   2  123  133    0]\n",
      " [   0   16   15    3]]\n",
      "\n",
      "Classification report\n",
      "              precision    recall  f1-score   support\n",
      "\n",
      "           1       0.81      0.74      0.77       507\n",
      "           2       0.82      0.92      0.87      1372\n",
      "           3       0.74      0.52      0.61       258\n",
      "           4       1.00      0.09      0.16        34\n",
      "\n",
      "    accuracy                           0.81      2171\n",
      "   macro avg       0.84      0.57      0.60      2171\n",
      "weighted avg       0.81      0.81      0.80      2171\n",
      "\n"
     ]
    }
   ],
   "source": [
    "hard_votingC_final = VotingClassifier(estimators=[ ('rfc', rfc_best),\n",
    "('svc', svc_best),('gbc',GBC_best),  ('mlp', MLP_best), ('knn', knn_gscv_10.best_estimator_)], voting='hard', n_jobs=4)\n",
    "\n",
    "hard_votingC_final = hard_votingC_final.fit(X_train, y_train)\n",
    "hard_predict_final = hard_votingC_final.predict(X_test)\n",
    "print('Hard voting', hard_votingC_final.score(X_train, y_train))\n",
    "print('Hard voting test score', hard_votingC_final.score(X_test, y_test))\n",
    "print()\n",
    "print('Confusion Matrix')\n",
    "print(confusion_matrix(y_test, hard_predict_final))\n",
    "print()\n",
    "print('Classification report')\n",
    "print(classification_report(y_test, hard_predict_final))"
   ]
  },
  {
   "cell_type": "markdown",
   "metadata": {},
   "source": [
    "# Voting: Soft Voting"
   ]
  },
  {
   "cell_type": "code",
   "execution_count": 49,
   "metadata": {},
   "outputs": [
    {
     "name": "stdout",
     "output_type": "stream",
     "text": [
      "Soft voting 0.9255676209279369\n",
      "Soft voting test score 0.8079226163058498\n",
      "\n",
      "Confusion Matrix\n",
      "[[ 374  132    1    0]\n",
      " [  94 1239   39    0]\n",
      " [   2  114  139    3]\n",
      " [   0   14   18    2]]\n",
      "\n",
      "Classification report\n",
      "              precision    recall  f1-score   support\n",
      "\n",
      "           1       0.80      0.74      0.77       507\n",
      "           2       0.83      0.90      0.86      1372\n",
      "           3       0.71      0.54      0.61       258\n",
      "           4       0.40      0.06      0.10        34\n",
      "\n",
      "    accuracy                           0.81      2171\n",
      "   macro avg       0.68      0.56      0.59      2171\n",
      "weighted avg       0.80      0.81      0.80      2171\n",
      "\n"
     ]
    }
   ],
   "source": [
    "soft_votingC_final = VotingClassifier(estimators=[('rfc', rfc_best), \n",
    "('gbc',GBC_best), ('mlp', MLP_best)], voting='soft', n_jobs=4)\n",
    "\n",
    "soft_votingC_final = soft_votingC_final.fit(X_train, y_train)\n",
    "soft_predict_final = soft_votingC_final.predict(X_test)\n",
    "soft_votingC_final.score(X_test, y_test)\n",
    "print('Soft voting', soft_votingC_final.score(X_train, y_train))\n",
    "print('Soft voting test score', soft_votingC_final.score(X_test, y_test))\n",
    "print()\n",
    "print('Confusion Matrix')\n",
    "print(confusion_matrix(y_test, soft_predict_final))\n",
    "print()\n",
    "print('Classification report')\n",
    "print(classification_report(y_test, soft_predict_final))"
   ]
  },
  {
   "cell_type": "markdown",
   "metadata": {},
   "source": [
    "# Summary"
   ]
  },
  {
   "cell_type": "code",
   "execution_count": 50,
   "metadata": {
    "scrolled": false
   },
   "outputs": [
    {
     "name": "stdout",
     "output_type": "stream",
     "text": [
      "Training Best Score\n",
      "\n",
      "GBC 0.8080945810042801\n",
      "MLP 0.808684347982007\n",
      "RFC 0.8053297315839121\n",
      "SVC 0.8124388988937484\n",
      "KNN 0.788350445541081\n",
      "\n",
      "Hard voting 0.8720631786771964\n",
      "Soft voting 0.9255676209279369\n",
      "----------------------------------------------------------------\n",
      "\n",
      "Test Score\n",
      "GBC 0.8023952095808383\n",
      "MLP 0.7959465684016582\n",
      "RFC 0.8070013818516812\n",
      "SVC 0.8074619990787656\n",
      "KNN 0.7890373099953938\n",
      "\n",
      "Hard voting 0.8148318747121143\n",
      "Soft voting 0.8079226163058498\n"
     ]
    }
   ],
   "source": [
    "print('Training Best Score')\n",
    "print()\n",
    "print('GBC', gbc_gscv.best_score_)\n",
    "print('MLP', mlp_gscv.best_score_)\n",
    "print('RFC', rfc_gscv.best_score_)\n",
    "print(\"SVC\", svc_gscv.best_score_)\n",
    "print('KNN', knn_gscv_10.best_score_)\n",
    "print()\n",
    "print('Hard voting', hard_votingC_final.score(X_train, y_train))\n",
    "print('Soft voting', soft_votingC_final.score(X_train, y_train))\n",
    "\n",
    "print('----------------------------------------------------------------')\n",
    "print()\n",
    "print('Test Score')\n",
    "print('GBC', gbc_gscv.score(X_test, y_test))\n",
    "print('MLP', mlp_gscv.score(X_test, y_test))\n",
    "print('RFC', rfc_gscv.score(X_test, y_test))\n",
    "print(\"SVC\", svc_gscv.score(X_test, y_test))\n",
    "print('KNN', knn_gscv_10.score(X_test, y_test))\n",
    "print()\n",
    "print('Hard voting', hard_votingC_final.score(X_test, y_test))\n",
    "print('Soft voting', soft_votingC_final.score(X_test, y_test))\n"
   ]
  },
  {
   "cell_type": "markdown",
   "metadata": {},
   "source": [
    "# Confusion map Analysis"
   ]
  },
  {
   "cell_type": "code",
   "execution_count": 51,
   "metadata": {},
   "outputs": [],
   "source": [
    "# knn_gscv_10\n",
    "# svc_gscv\n",
    "# rfc_gscv\n",
    "# mlp_gscv\n",
    "# gbc_gscv\n",
    "# hard_votingC\n",
    "# soft_votingC"
   ]
  },
  {
   "cell_type": "code",
   "execution_count": 52,
   "metadata": {},
   "outputs": [],
   "source": [
    "import sklearn.metrics as sm\n",
    "import itertools"
   ]
  },
  {
   "cell_type": "code",
   "execution_count": 53,
   "metadata": {},
   "outputs": [],
   "source": [
    "def plot_confusion_matrix(cm, target_names=None, cmap=None, normalize=True, labels=True, title='Confusion matrix'):\n",
    "    accuracy = np.trace(cm) / float(np.sum(cm))\n",
    "    misclass = 1 - accuracy\n",
    "\n",
    "    if cmap is None:\n",
    "        cmap = plt.get_cmap('Blues')\n",
    "\n",
    "    if normalize:\n",
    "        cm = cm.astype('float') / cm.sum(axis=1)[:, np.newaxis]\n",
    "        \n",
    "    plt.figure(figsize=(8, 6))\n",
    "    plt.imshow(cm, interpolation='nearest', cmap=cmap)\n",
    "    plt.title(title)\n",
    "    plt.colorbar()\n",
    "\n",
    "    thresh = cm.max() / 1.5 if normalize else cm.max() / 2\n",
    "    \n",
    "    if target_names is not None:\n",
    "        tick_marks = np.arange(len(target_names))\n",
    "        plt.xticks(tick_marks, target_names)\n",
    "        plt.yticks(tick_marks, target_names)\n",
    "    \n",
    "    if labels:\n",
    "        for i, j in itertools.product(range(cm.shape[0]), range(cm.shape[1])):\n",
    "            if normalize:\n",
    "                plt.text(j, i, \"{:0.4f}\".format(cm[i, j]),\n",
    "                         horizontalalignment=\"center\",\n",
    "                         color=\"white\" if cm[i, j] > thresh else \"black\")\n",
    "            else:\n",
    "                plt.text(j, i, \"{:,}\".format(cm[i, j]),\n",
    "                         horizontalalignment=\"center\",\n",
    "                         color=\"white\" if cm[i, j] > thresh else \"black\")\n",
    "\n",
    "    plt.tight_layout()\n",
    "    plt.ylabel('True label')\n",
    "    plt.xlabel('Predicted label\\naccuracy={:0.4f}; misclass={:0.4f}'.format(accuracy, misclass))\n",
    "    plt.show()"
   ]
  },
  {
   "cell_type": "code",
   "execution_count": 54,
   "metadata": {},
   "outputs": [],
   "source": [
    "knn_con = confusion_matrix(y_test, knn_y_pred)\n",
    "svc_con = confusion_matrix(y_test, svc_y_pred)\n",
    "rfc_con = confusion_matrix(y_test, rfc_y_pred)\n",
    "mlp_con = confusion_matrix(y_test, mlp_y_pred)\n",
    "gbc_con = confusion_matrix(y_test, gbc_y_pred)\n",
    "h_voting_con = confusion_matrix(y_test, hard_predict_final)\n",
    "s_voting_con = confusion_matrix(y_test, soft_predict_final)\n",
    "\n",
    "target_name = ['Good', 'Moderate', 'Bad', 'Very Bad']"
   ]
  },
  {
   "cell_type": "code",
   "execution_count": 55,
   "metadata": {},
   "outputs": [
    {
     "data": {
      "image/png": "[encoded data removed]",
      "text/plain": [
       "<Figure size 576x432 with 2 Axes>"
      ]
     },
     "metadata": {
      "needs_background": "light"
     },
     "output_type": "display_data"
    }
   ],
   "source": [
    "# KNN plot\n",
    "norm = False\n",
    "knn_plot = plot_confusion_matrix(knn_con, target_names=target_name, cmap=None, normalize=norm, labels=True, title='Confusion matrix-KNN Classifier')\n",
    "knn_plot"
   ]
  },
  {
   "cell_type": "code",
   "execution_count": 56,
   "metadata": {},
   "outputs": [
    {
     "data": {
      "image/png": "[encoded data removed]",
      "text/plain": [
       "<Figure size 576x432 with 2 Axes>"
      ]
     },
     "metadata": {
      "needs_background": "light"
     },
     "output_type": "display_data"
    }
   ],
   "source": [
    "svc_plot = plot_confusion_matrix(svc_con, target_names=target_name, cmap=None, normalize=norm, labels=True, title='Confusion matrix-SVC Classifier')\n",
    "svc_plot"
   ]
  },
  {
   "cell_type": "code",
   "execution_count": 57,
   "metadata": {},
   "outputs": [
    {
     "data": {
      "image/png": "[encoded data removed]",
      "text/plain": [
       "<Figure size 576x432 with 2 Axes>"
      ]
     },
     "metadata": {
      "needs_background": "light"
     },
     "output_type": "display_data"
    }
   ],
   "source": [
    "rfc_plot = plot_confusion_matrix(rfc_con, target_names=target_name, cmap=None, normalize=norm, labels=True, title='Confusion matrix - Random Forest Classifier')\n",
    "rfc_plot"
   ]
  },
  {
   "cell_type": "code",
   "execution_count": 58,
   "metadata": {},
   "outputs": [
    {
     "data": {
      "image/png": "[encoded data removed]",
      "text/plain": [
       "<Figure size 576x432 with 2 Axes>"
      ]
     },
     "metadata": {
      "needs_background": "light"
     },
     "output_type": "display_data"
    }
   ],
   "source": [
    "mlp_plot = plot_confusion_matrix(mlp_con, target_names=target_name, cmap=None, normalize=norm, labels=True, title='Confusion matrix- MLP Classifier')\n",
    "mlp_plot"
   ]
  },
  {
   "cell_type": "code",
   "execution_count": 59,
   "metadata": {},
   "outputs": [
    {
     "data": {
      "image/png": "[encoded data removed]",
      "text/plain": [
       "<Figure size 576x432 with 2 Axes>"
      ]
     },
     "metadata": {
      "needs_background": "light"
     },
     "output_type": "display_data"
    }
   ],
   "source": [
    "gbc_plot = plot_confusion_matrix(gbc_con, target_names=target_name, cmap=None, normalize=norm, labels=True, title='Confusion matrix - GBC Classifier')\n",
    "gbc_plot"
   ]
  },
  {
   "cell_type": "code",
   "execution_count": 60,
   "metadata": {},
   "outputs": [
    {
     "data": {
      "image/png": "[encoded data removed]",
      "text/plain": [
       "<Figure size 576x432 with 2 Axes>"
      ]
     },
     "metadata": {
      "needs_background": "light"
     },
     "output_type": "display_data"
    }
   ],
   "source": [
    "h_voting_plot = plot_confusion_matrix(h_voting_con, target_names=target_name, cmap=None, normalize=norm, labels=True, title='Confusion matrix - Hard Voting Classifier')\n",
    "h_voting_plot"
   ]
  },
  {
   "cell_type": "code",
   "execution_count": 61,
   "metadata": {},
   "outputs": [
    {
     "data": {
      "image/png": "[encoded data removed]",
      "text/plain": [
       "<Figure size 576x432 with 2 Axes>"
      ]
     },
     "metadata": {
      "needs_background": "light"
     },
     "output_type": "display_data"
    }
   ],
   "source": [
    "s_voting_plot = plot_confusion_matrix(s_voting_con, target_names=target_name, cmap=None, normalize=norm, labels=True, title='Confusion matrix- Soft Voting Classifier')\n",
    "s_voting_plot"
   ]
  },
  {
   "cell_type": "markdown",
   "metadata": {},
   "source": [
    "# Binary Variable"
   ]
  },
  {
   "cell_type": "code",
   "execution_count": 62,
   "metadata": {},
   "outputs": [],
   "source": [
    "def binary_predictions(prediction):\n",
    "    b_list = []\n",
    "    for i in prediction:\n",
    "        if i == 1:\n",
    "            b_list.append(1)\n",
    "        if i == 2:\n",
    "            b_list.append(1)\n",
    "        if i == 3:\n",
    "            b_list.append(0)\n",
    "        if i == 4:\n",
    "            b_list.append(0)\n",
    "            \n",
    "    return b_list"
   ]
  },
  {
   "cell_type": "code",
   "execution_count": 63,
   "metadata": {},
   "outputs": [],
   "source": [
    "b_true_test = binary_predictions(y_test)"
   ]
  },
  {
   "cell_type": "code",
   "execution_count": 64,
   "metadata": {},
   "outputs": [],
   "source": [
    "b_soft_pred = binary_predictions(soft_predict_final)\n",
    "b_hard_pred = binary_predictions(hard_predict_final)\n",
    "b_knn_pred = binary_predictions(knn_y_pred)\n",
    "b_svc_pred = binary_predictions(svc_y_pred)\n",
    "b_rfc_pred = binary_predictions(rfc_y_pred)\n",
    "b_mlp_pred = binary_predictions(mlp_y_pred)\n",
    "b_gbc_pred = binary_predictions(gbc_y_pred)\n",
    "\n",
    "b_knn_con = confusion_matrix(b_true_test, b_knn_pred)\n",
    "b_svc_con = confusion_matrix(b_true_test, b_svc_pred)\n",
    "b_rfc_con = confusion_matrix(b_true_test, b_rfc_pred)\n",
    "b_mlp_con = confusion_matrix(b_true_test, b_mlp_pred)\n",
    "b_gbc_con = confusion_matrix(b_true_test, b_gbc_pred)\n",
    "b_h_voting_con = confusion_matrix(b_true_test, b_hard_pred)\n",
    "b_s_voting_con = confusion_matrix(b_true_test, b_soft_pred)"
   ]
  },
  {
   "cell_type": "code",
   "execution_count": 65,
   "metadata": {
    "scrolled": false
   },
   "outputs": [
    {
     "data": {
      "image/png": "[encoded data removed]",
      "text/plain": [
       "<Figure size 576x432 with 2 Axes>"
      ]
     },
     "metadata": {
      "needs_background": "light"
     },
     "output_type": "display_data"
    },
    {
     "data": {
      "image/png": "[encoded data removed]",
      "text/plain": [
       "<Figure size 576x432 with 2 Axes>"
      ]
     },
     "metadata": {
      "needs_background": "light"
     },
     "output_type": "display_data"
    },
    {
     "data": {
      "image/png": "[encoded data removed]",
      "text/plain": [
       "<Figure size 576x432 with 2 Axes>"
      ]
     },
     "metadata": {
      "needs_background": "light"
     },
     "output_type": "display_data"
    },
    {
     "data": {
      "image/png": "[encoded data removed]",
      "text/plain": [
       "<Figure size 576x432 with 2 Axes>"
      ]
     },
     "metadata": {
      "needs_background": "light"
     },
     "output_type": "display_data"
    },
    {
     "data": {
      "image/png": "[encoded data removed]",
      "text/plain": [
       "<Figure size 576x432 with 2 Axes>"
      ]
     },
     "metadata": {
      "needs_background": "light"
     },
     "output_type": "display_data"
    },
    {
     "data": {
      "image/png": "[encoded data removed]",
      "text/plain": [
       "<Figure size 576x432 with 2 Axes>"
      ]
     },
     "metadata": {
      "needs_background": "light"
     },
     "output_type": "display_data"
    },
    {
     "data": {
      "image/png": "[encoded data removed]",
      "text/plain": [
       "<Figure size 576x432 with 2 Axes>"
      ]
     },
     "metadata": {
      "needs_background": "light"
     },
     "output_type": "display_data"
    }
   ],
   "source": [
    "binary_target_name = ['Bad / Very Bad', 'Good / Moderate']\n",
    "\n",
    "on = False\n",
    "\n",
    "b_s_voting_plot = plot_confusion_matrix(b_s_voting_con, target_names=binary_target_name, cmap=None, normalize=on, labels=True, title='Confusion matrix- Soft Voting Classifier')\n",
    "b_h_voting_plot = plot_confusion_matrix(b_h_voting_con, target_names=binary_target_name, cmap=None, normalize=on, labels=True, title='Confusion matrix- Hard Voting Classifier')\n",
    "b_knn_voting_plot = plot_confusion_matrix(b_knn_con, target_names=binary_target_name, cmap=None, normalize=on, labels=True, title='Confusion matrix- KNN Classifier')\n",
    "b_svc_voting_plot = plot_confusion_matrix(b_svc_con, target_names=binary_target_name, cmap=None, normalize=on, labels=True, title='Confusion matrix- SVC Classifier')\n",
    "b_rfc_voting_plot = plot_confusion_matrix(b_rfc_con, target_names=binary_target_name, cmap=None, normalize=on, labels=True, title='Confusion matrix- RFC Voting Classifier')\n",
    "b_mlp_voting_plot = plot_confusion_matrix(b_mlp_con, target_names=binary_target_name, cmap=None, normalize=on, labels=True, title='Confusion matrix- MLP Voting Classifier')\n",
    "b_gbc_voting_plot = plot_confusion_matrix(b_gbc_con, target_names=binary_target_name, cmap=None, normalize=on, labels=True, title='Confusion matrix- GBC Voting Classifier')"
   ]
  },
  {
   "cell_type": "code",
   "execution_count": 66,
   "metadata": {},
   "outputs": [],
   "source": [
    "original_PM = pd.read_csv('final_dataset.csv')\n",
    "original_PM['DateTime'] = original_PM['DateTime'].apply(lambda x: pd.to_datetime(str(x), format='%Y-%m-%d'))\n",
    "original_PM = original_PM.set_index('DateTime')\n",
    "original_PM = original_PM['PM10']"
   ]
  },
  {
   "cell_type": "code",
   "execution_count": 67,
   "metadata": {},
   "outputs": [
    {
     "data": {
      "text/html": [
       "<div>\n",
       "<style scoped>\n",
       "    .dataframe tbody tr th:only-of-type {\n",
       "        vertical-align: middle;\n",
       "    }\n",
       "\n",
       "    .dataframe tbody tr th {\n",
       "        vertical-align: top;\n",
       "    }\n",
       "\n",
       "    .dataframe thead th {\n",
       "        text-align: right;\n",
       "    }\n",
       "</style>\n",
       "<table border=\"1\" class=\"dataframe\">\n",
       "  <thead>\n",
       "    <tr style=\"text-align: right;\">\n",
       "      <th></th>\n",
       "      <th>avg_precipitation</th>\n",
       "      <th>avg_humidity</th>\n",
       "      <th>avg_dew_point</th>\n",
       "      <th>avg_cloud</th>\n",
       "      <th>avg_wind</th>\n",
       "      <th>avg_pressure</th>\n",
       "      <th>avg_temp</th>\n",
       "      <th>SO2</th>\n",
       "      <th>O3</th>\n",
       "      <th>NO2</th>\n",
       "      <th>CO</th>\n",
       "      <th>PM10y</th>\n",
       "    </tr>\n",
       "    <tr>\n",
       "      <th>DateTime</th>\n",
       "      <th></th>\n",
       "      <th></th>\n",
       "      <th></th>\n",
       "      <th></th>\n",
       "      <th></th>\n",
       "      <th></th>\n",
       "      <th></th>\n",
       "      <th></th>\n",
       "      <th></th>\n",
       "      <th></th>\n",
       "      <th></th>\n",
       "      <th></th>\n",
       "    </tr>\n",
       "  </thead>\n",
       "  <tbody>\n",
       "    <tr>\n",
       "      <th>2003-05-23</th>\n",
       "      <td>-0.250302</td>\n",
       "      <td>-0.550831</td>\n",
       "      <td>0.467049</td>\n",
       "      <td>-0.166591</td>\n",
       "      <td>-1.105877</td>\n",
       "      <td>-0.194467</td>\n",
       "      <td>0.759767</td>\n",
       "      <td>2.132212</td>\n",
       "      <td>0.123369</td>\n",
       "      <td>3.469269</td>\n",
       "      <td>1.719384</td>\n",
       "      <td>4.518786</td>\n",
       "    </tr>\n",
       "    <tr>\n",
       "      <th>2017-06-21</th>\n",
       "      <td>-0.250302</td>\n",
       "      <td>-0.530715</td>\n",
       "      <td>0.801375</td>\n",
       "      <td>-0.578645</td>\n",
       "      <td>0.644975</td>\n",
       "      <td>-1.322751</td>\n",
       "      <td>1.186467</td>\n",
       "      <td>-0.137799</td>\n",
       "      <td>1.759975</td>\n",
       "      <td>-0.717633</td>\n",
       "      <td>-0.818414</td>\n",
       "      <td>0.002784</td>\n",
       "    </tr>\n",
       "    <tr>\n",
       "      <th>2005-02-17</th>\n",
       "      <td>-0.250302</td>\n",
       "      <td>0.019131</td>\n",
       "      <td>-0.586080</td>\n",
       "      <td>-0.800521</td>\n",
       "      <td>0.061357</td>\n",
       "      <td>0.933818</td>\n",
       "      <td>-0.776352</td>\n",
       "      <td>-0.290229</td>\n",
       "      <td>-0.558349</td>\n",
       "      <td>0.096131</td>\n",
       "      <td>-0.245702</td>\n",
       "      <td>-1.081092</td>\n",
       "    </tr>\n",
       "    <tr>\n",
       "      <th>2006-10-20</th>\n",
       "      <td>-0.217519</td>\n",
       "      <td>0.810374</td>\n",
       "      <td>0.776301</td>\n",
       "      <td>-0.261680</td>\n",
       "      <td>-0.872430</td>\n",
       "      <td>0.767139</td>\n",
       "      <td>0.589087</td>\n",
       "      <td>-0.118060</td>\n",
       "      <td>-0.556732</td>\n",
       "      <td>0.623584</td>\n",
       "      <td>0.426841</td>\n",
       "      <td>0.405158</td>\n",
       "    </tr>\n",
       "    <tr>\n",
       "      <th>2018-09-11</th>\n",
       "      <td>-0.250302</td>\n",
       "      <td>-0.832460</td>\n",
       "      <td>0.433616</td>\n",
       "      <td>0.847697</td>\n",
       "      <td>-0.989154</td>\n",
       "      <td>0.626104</td>\n",
       "      <td>0.826143</td>\n",
       "      <td>-1.045803</td>\n",
       "      <td>0.738005</td>\n",
       "      <td>-1.492274</td>\n",
       "      <td>-1.149431</td>\n",
       "      <td>-1.085551</td>\n",
       "    </tr>\n",
       "    <tr>\n",
       "      <th>...</th>\n",
       "      <td>...</td>\n",
       "      <td>...</td>\n",
       "      <td>...</td>\n",
       "      <td>...</td>\n",
       "      <td>...</td>\n",
       "      <td>...</td>\n",
       "      <td>...</td>\n",
       "      <td>...</td>\n",
       "      <td>...</td>\n",
       "      <td>...</td>\n",
       "      <td>...</td>\n",
       "      <td>...</td>\n",
       "    </tr>\n",
       "    <tr>\n",
       "      <th>2012-07-12</th>\n",
       "      <td>-0.250302</td>\n",
       "      <td>0.790257</td>\n",
       "      <td>1.202567</td>\n",
       "      <td>1.481627</td>\n",
       "      <td>-0.055366</td>\n",
       "      <td>-2.027929</td>\n",
       "      <td>1.120091</td>\n",
       "      <td>-0.374669</td>\n",
       "      <td>1.494481</td>\n",
       "      <td>-0.391132</td>\n",
       "      <td>-0.014515</td>\n",
       "      <td>-0.800893</td>\n",
       "    </tr>\n",
       "    <tr>\n",
       "      <th>2000-11-15</th>\n",
       "      <td>-0.250302</td>\n",
       "      <td>-0.483777</td>\n",
       "      <td>-0.310260</td>\n",
       "      <td>1.037876</td>\n",
       "      <td>-0.872430</td>\n",
       "      <td>1.421031</td>\n",
       "      <td>-0.226383</td>\n",
       "      <td>1.579514</td>\n",
       "      <td>-0.836774</td>\n",
       "      <td>0.934081</td>\n",
       "      <td>2.286841</td>\n",
       "      <td>0.911335</td>\n",
       "    </tr>\n",
       "    <tr>\n",
       "      <th>2009-06-17</th>\n",
       "      <td>-0.250302</td>\n",
       "      <td>0.642738</td>\n",
       "      <td>0.884957</td>\n",
       "      <td>1.323145</td>\n",
       "      <td>-0.872430</td>\n",
       "      <td>-0.361145</td>\n",
       "      <td>0.778732</td>\n",
       "      <td>-0.236495</td>\n",
       "      <td>-0.960428</td>\n",
       "      <td>1.347009</td>\n",
       "      <td>0.379553</td>\n",
       "      <td>-0.094599</td>\n",
       "    </tr>\n",
       "    <tr>\n",
       "      <th>2019-04-06</th>\n",
       "      <td>-0.197849</td>\n",
       "      <td>-1.382307</td>\n",
       "      <td>-0.769959</td>\n",
       "      <td>1.164662</td>\n",
       "      <td>-1.456047</td>\n",
       "      <td>-0.540645</td>\n",
       "      <td>-0.340170</td>\n",
       "      <td>-0.611540</td>\n",
       "      <td>-0.607649</td>\n",
       "      <td>0.956488</td>\n",
       "      <td>-0.077566</td>\n",
       "      <td>0.704798</td>\n",
       "    </tr>\n",
       "    <tr>\n",
       "      <th>2006-02-07</th>\n",
       "      <td>0.300451</td>\n",
       "      <td>1.340104</td>\n",
       "      <td>-0.719810</td>\n",
       "      <td>1.418234</td>\n",
       "      <td>0.878421</td>\n",
       "      <td>-0.258574</td>\n",
       "      <td>-1.307356</td>\n",
       "      <td>0.415722</td>\n",
       "      <td>-0.639169</td>\n",
       "      <td>0.198385</td>\n",
       "      <td>0.296142</td>\n",
       "      <td>-0.300780</td>\n",
       "    </tr>\n",
       "  </tbody>\n",
       "</table>\n",
       "<p>2171 rows × 12 columns</p>\n",
       "</div>"
      ],
      "text/plain": [
       "            avg_precipitation  avg_humidity  avg_dew_point  avg_cloud  \\\n",
       "DateTime                                                                \n",
       "2003-05-23          -0.250302     -0.550831       0.467049  -0.166591   \n",
       "2017-06-21          -0.250302     -0.530715       0.801375  -0.578645   \n",
       "2005-02-17          -0.250302      0.019131      -0.586080  -0.800521   \n",
       "2006-10-20          -0.217519      0.810374       0.776301  -0.261680   \n",
       "2018-09-11          -0.250302     -0.832460       0.433616   0.847697   \n",
       "...                       ...           ...            ...        ...   \n",
       "2012-07-12          -0.250302      0.790257       1.202567   1.481627   \n",
       "2000-11-15          -0.250302     -0.483777      -0.310260   1.037876   \n",
       "2009-06-17          -0.250302      0.642738       0.884957   1.323145   \n",
       "2019-04-06          -0.197849     -1.382307      -0.769959   1.164662   \n",
       "2006-02-07           0.300451      1.340104      -0.719810   1.418234   \n",
       "\n",
       "            avg_wind  avg_pressure  avg_temp       SO2        O3       NO2  \\\n",
       "DateTime                                                                     \n",
       "2003-05-23 -1.105877     -0.194467  0.759767  2.132212  0.123369  3.469269   \n",
       "2017-06-21  0.644975     -1.322751  1.186467 -0.137799  1.759975 -0.717633   \n",
       "2005-02-17  0.061357      0.933818 -0.776352 -0.290229 -0.558349  0.096131   \n",
       "2006-10-20 -0.872430      0.767139  0.589087 -0.118060 -0.556732  0.623584   \n",
       "2018-09-11 -0.989154      0.626104  0.826143 -1.045803  0.738005 -1.492274   \n",
       "...              ...           ...       ...       ...       ...       ...   \n",
       "2012-07-12 -0.055366     -2.027929  1.120091 -0.374669  1.494481 -0.391132   \n",
       "2000-11-15 -0.872430      1.421031 -0.226383  1.579514 -0.836774  0.934081   \n",
       "2009-06-17 -0.872430     -0.361145  0.778732 -0.236495 -0.960428  1.347009   \n",
       "2019-04-06 -1.456047     -0.540645 -0.340170 -0.611540 -0.607649  0.956488   \n",
       "2006-02-07  0.878421     -0.258574 -1.307356  0.415722 -0.639169  0.198385   \n",
       "\n",
       "                  CO     PM10y  \n",
       "DateTime                        \n",
       "2003-05-23  1.719384  4.518786  \n",
       "2017-06-21 -0.818414  0.002784  \n",
       "2005-02-17 -0.245702 -1.081092  \n",
       "2006-10-20  0.426841  0.405158  \n",
       "2018-09-11 -1.149431 -1.085551  \n",
       "...              ...       ...  \n",
       "2012-07-12 -0.014515 -0.800893  \n",
       "2000-11-15  2.286841  0.911335  \n",
       "2009-06-17  0.379553 -0.094599  \n",
       "2019-04-06 -0.077566  0.704798  \n",
       "2006-02-07  0.296142 -0.300780  \n",
       "\n",
       "[2171 rows x 12 columns]"
      ]
     },
     "execution_count": 67,
     "metadata": {},
     "output_type": "execute_result"
    }
   ],
   "source": [
    "X_test"
   ]
  },
  {
   "cell_type": "code",
   "execution_count": 68,
   "metadata": {},
   "outputs": [],
   "source": [
    "test_pm = pd.merge(X_test, original_PM, left_index=True, right_index=True)\n",
    "PM_to_threshold = test_pm['PM10']"
   ]
  },
  {
   "cell_type": "code",
   "execution_count": 69,
   "metadata": {},
   "outputs": [],
   "source": [
    "def ROC(threshold, model_pred):\n",
    "    threshold_result = []\n",
    "    for i in PM_to_threshold:\n",
    "        if i <= threshold:\n",
    "            threshold_result.append(0)\n",
    "        else:\n",
    "            threshold_result.append(1)\n",
    "\n",
    "    con = confusion_matrix(threshold_result, model_pred)\n",
    "\n",
    "    TP = con[0][0]\n",
    "    FP = con[1][0]\n",
    "    FN = con[0][1]\n",
    "    TN = con[1][1]\n",
    "\n",
    "    x = FP / (TN + FP)\n",
    "    y = TP / (TP + FN)\n",
    "\n",
    "    return x, y"
   ]
  },
  {
   "cell_type": "code",
   "execution_count": 70,
   "metadata": {},
   "outputs": [
    {
     "data": {
      "text/plain": [
       "(0.5547945205479452, 0.021287919105907396)"
      ]
     },
     "execution_count": 70,
     "metadata": {},
     "output_type": "execute_result"
    }
   ],
   "source": [
    "ROC(80, b_soft_pred)"
   ]
  },
  {
   "cell_type": "code",
   "execution_count": 71,
   "metadata": {},
   "outputs": [],
   "source": [
    "threshold_lst = np.linspace(0, 900, 900)"
   ]
  },
  {
   "cell_type": "code",
   "execution_count": 72,
   "metadata": {},
   "outputs": [],
   "source": [
    "def ROC_plot(model_pred):\n",
    "    one_spec = []\n",
    "    sens = []\n",
    "    for thres in threshold_lst:\n",
    "        one_spec.append(ROC(thres, model_pred)[0])\n",
    "        sens.append(ROC(thres, model_pred)[1])\n",
    "\n",
    "    plt.plot(one_spec, sens)\n",
    "    plt.show()"
   ]
  },
  {
   "cell_type": "code",
   "execution_count": 73,
   "metadata": {},
   "outputs": [
    {
     "name": "stderr",
     "output_type": "stream",
     "text": [
      "<ipython-input-69-a762c0e1bb48>:17: RuntimeWarning: invalid value encountered in longlong_scalars\n",
      "  y = TP / (TP + FN)\n",
      "<ipython-input-69-a762c0e1bb48>:16: RuntimeWarning: invalid value encountered in longlong_scalars\n",
      "  x = FP / (TN + FP)\n"
     ]
    },
    {
     "data": {
      "image/png": "[encoded data removed]",
      "text/plain": [
       "<Figure size 432x288 with 1 Axes>"
      ]
     },
     "metadata": {
      "needs_background": "light"
     },
     "output_type": "display_data"
    }
   ],
   "source": [
    "ROC_plot(b_soft_pred)"
   ]
  },
  {
   "cell_type": "code",
   "execution_count": 74,
   "metadata": {},
   "outputs": [
    {
     "ename": "NameError",
     "evalue": "name 'threshold_result' is not defined",
     "output_type": "error",
     "traceback": [
      "\u001b[1;31m---------------------------------------------------------------------------\u001b[0m",
      "\u001b[1;31mNameError\u001b[0m                                 Traceback (most recent call last)",
      "\u001b[1;32m<ipython-input-74-3546cfab30ed>\u001b[0m in \u001b[0;36m<module>\u001b[1;34m\u001b[0m\n\u001b[1;32m----> 1\u001b[1;33m \u001b[0mplot_confusion_matrix\u001b[0m\u001b[1;33m(\u001b[0m\u001b[0mconfusion_matrix\u001b[0m\u001b[1;33m(\u001b[0m\u001b[0mthreshold_result\u001b[0m\u001b[1;33m,\u001b[0m \u001b[0mb_soft_pred\u001b[0m\u001b[1;33m)\u001b[0m\u001b[1;33m)\u001b[0m\u001b[1;33m\u001b[0m\u001b[1;33m\u001b[0m\u001b[0m\n\u001b[0m",
      "\u001b[1;31mNameError\u001b[0m: name 'threshold_result' is not defined"
     ]
    }
   ],
   "source": [
    "plot_confusion_matrix(confusion_matrix(threshold_result, b_soft_pred))"
   ]
  },
  {
   "cell_type": "code",
   "execution_count": null,
   "metadata": {},
   "outputs": [],
   "source": [
    "b_gbc_voting_plot = plot_confusion_matrix(confusion_matrix(threshold_result, b_knn_pred), target_names=binary_target_name, cmap=None, normalize=False, labels=True, title='Confusion matrix- GBC Voting Classifier')"
   ]
  },
  {
   "cell_type": "markdown",
   "metadata": {},
   "source": [
    "## Max Accuracy"
   ]
  },
  {
   "cell_type": "code",
   "execution_count": null,
   "metadata": {},
   "outputs": [],
   "source": [
    "threshold_lst = np.linspace(50, 400, 400)"
   ]
  },
  {
   "cell_type": "code",
   "execution_count": null,
   "metadata": {},
   "outputs": [],
   "source": [
    "def evaluate(model_pred, threshold):\n",
    "    threshold_result = []\n",
    "    for i in PM_to_threshold:\n",
    "        if i <= threshold:\n",
    "            threshold_result.append(1)\n",
    "        else:\n",
    "            threshold_result.append(0)\n",
    "    TP = confusion_matrix(threshold_result, model_pred)[0][0]\n",
    "    TN =  confusion_matrix(threshold_result, model_pred)[1][1]\n",
    "    FN = confusion_matrix(threshold_result, model_pred)[0][1]\n",
    "    FP = confusion_matrix(threshold_result, model_pred)[1][0]\n",
    "    accuracy = (TP + TN)/len(model_pred)\n",
    "    sensitivity = TP / (TP + FN)\n",
    "    specificity = TN / (FP + TN)\n",
    "    return accuracy, sensitivity, specificity"
   ]
  },
  {
   "cell_type": "code",
   "execution_count": null,
   "metadata": {},
   "outputs": [],
   "source": [
    "def eval_results(model):\n",
    "    accuracy_lst = []\n",
    "    sens_lst = []\n",
    "    spec_lst = []\n",
    "    for i in threshold_lst:\n",
    "        accuracy_lst.append(100 * evaluate(model, i)[0])\n",
    "        sens_lst.append(100* evaluate(model, i)[1])\n",
    "        spec_lst.append(100 * evaluate(model, i)[2])\n",
    "    return accuracy_lst, sens_lst, spec_lst"
   ]
  },
  {
   "cell_type": "code",
   "execution_count": null,
   "metadata": {},
   "outputs": [],
   "source": [
    "def plot_eval(model):\n",
    "    result = eval_results(model)\n",
    "    plt.figure(figsize=(10,6))\n",
    "    s = 25\n",
    "    plt.title(model_name, fontsize = s)\n",
    "    plt.plot(threshold_lst, result[0], label = 'Accuracy')\n",
    "    plt.xlabel('Threshold', fontsize=s)\n",
    "    # plt.ylabel('Acuuracy (%)')\n",
    "    \n",
    "    \n",
    "    plt.plot(threshold_lst, result[1], label = 'Sensitivity')\n",
    "    # plt.xlabel('Threshold')\n",
    "    # plt.ylabel('Sensitivity (%)')\n",
    "    \n",
    "    best_acc_index = result[0].index(np.max(result[0]))\n",
    "    plt.plot(threshold_lst, result[2], label = 'Specificity')\n",
    "    plt.axvline(x = threshold_lst[best_acc_index], label='Best Threshold', color = 'k')\n",
    "    # plt.xlabel('Threshold')\n",
    "    # plt.ylabel('Specificity (%)')\n",
    "    plt.legend(loc = 'lower right', fontsize = 3/4 * s)\n",
    "    plt.ylabel('Percent (%)', fontsize=s)\n",
    "    plt.show()\n",
    "    \n",
    "    \n",
    "    print()\n",
    "    print('Best Accuracy', np.max(result[0]))\n",
    "    print('Corresponding threshold', threshold_lst[best_acc_index])\n",
    "    print('Corresponding sens', result[1][best_acc_index])\n",
    "    print('Corresponding spec', result[2][best_acc_index])\n",
    "    print()"
   ]
  },
  {
   "cell_type": "code",
   "execution_count": null,
   "metadata": {
    "scrolled": false
   },
   "outputs": [],
   "source": [
    "model_lst = [b_soft_pred, b_hard_pred, b_knn_pred, b_svc_pred, b_rfc_pred, b_mlp_pred, b_gbc_pred]\n",
    "model_name_lst = ['Soft Voting Classifier', 'Hard Voting Classifier', 'KNN', 'SVMC', 'RFC', 'MLP', 'GBC']\n",
    "for i, j in enumerate(model_lst):\n",
    "    model_name =model_name_lst[i]\n",
    "    plot_eval(j)"
   ]
  },
  {
   "cell_type": "markdown",
   "metadata": {},
   "source": [
    "## Matthew's correlation coefficient"
   ]
  },
  {
   "cell_type": "code",
   "execution_count": null,
   "metadata": {},
   "outputs": [],
   "source": [
    "def MCC_evaluate(model_pred, threshold):\n",
    "    threshold_result = []\n",
    "    for i in PM_to_threshold:\n",
    "        if i <= threshold:\n",
    "            threshold_result.append(1)\n",
    "        else:\n",
    "            threshold_result.append(0)\n",
    "    TP = confusion_matrix(threshold_result, model_pred)[0][0]\n",
    "    TN =  confusion_matrix(threshold_result, model_pred)[1][1]\n",
    "    FN = confusion_matrix(threshold_result, model_pred)[0][1]\n",
    "    FP = confusion_matrix(threshold_result, model_pred)[1][0]\n",
    "    \n",
    "    S = (TP + FN)/len(model_pred)\n",
    "    P = (TP + FP) / len(model_pred)\n",
    "    MMC_up = (TP/len(model_pred) - S * P)\n",
    "    MMC_down = np.sqrt(P * S * (1-S) * (1-P))\n",
    "    MMC = MMC_up / MMC_down\n",
    "    \n",
    "    accuracy = (TP + TN)/len(model_pred)\n",
    "    sensitivity = TP / (TP + FN)\n",
    "    specificity = TN / (FP + TN)\n",
    "    return accuracy, sensitivity, specificity, abs(MMC)"
   ]
  },
  {
   "cell_type": "code",
   "execution_count": null,
   "metadata": {},
   "outputs": [],
   "source": [
    "def MMC_eval_results(model):\n",
    "    MMC_lst = []\n",
    "    accuracy_lst = []\n",
    "    sens_lst = []\n",
    "    spec_lst = []\n",
    "    for i in threshold_lst:\n",
    "        accuracy_lst.append(100 * MCC_evaluate(model, i)[0])\n",
    "        sens_lst.append(100* MCC_evaluate(model, i)[1])\n",
    "        spec_lst.append(100 * MCC_evaluate(model, i)[2])\n",
    "        MMC_lst.append(MCC_evaluate(model, i)[3])\n",
    "    return accuracy_lst, sens_lst, spec_lst, MMC_lst"
   ]
  },
  {
   "cell_type": "code",
   "execution_count": null,
   "metadata": {},
   "outputs": [],
   "source": [
    "def MMC_plot_eval(model):\n",
    "    result = MMC_eval_results(model)\n",
    "    best_MMC_index = result[3].index(np.max(result[3]))\n",
    "    plt.figure(figsize=(10,6))\n",
    "    s = 25\n",
    "    plt.title(model_name, fontsize = s)\n",
    "    plt.plot(threshold_lst, result[3], label = 'MCC')\n",
    "    plt.scatter(threshold_lst[best_MMC_index], np.max(result[3]), s = 40, \\\n",
    "               label = 'Absolute Max MCC', c = 'k')\n",
    "    plt.xlabel('Threshold', fontsize = s)\n",
    "    plt.ylabel('MCC', fontsize = s)\n",
    "    plt.legend()\n",
    "    plt.show()\n",
    "    plt.figure(figsize=(10,6))\n",
    "    plt.title(model_name, fontsize = s)\n",
    "    plt.plot(threshold_lst, result[0], label = 'Accuracy')\n",
    "    plt.xlabel('Threshold', fontsize=s)\n",
    "    # plt.ylabel('Acuuracy (%)')\n",
    "    \n",
    "    \n",
    "    plt.plot(threshold_lst, result[1], label = 'Sensitivity')\n",
    "    # plt.xlabel('Threshold')\n",
    "    # plt.ylabel('Sensitivity (%)')\n",
    "    \n",
    "    \n",
    "    plt.plot(threshold_lst, result[2], label = 'Specificity')\n",
    "    plt.axvline(x = threshold_lst[best_MMC_index], label='Best MCC Threshold', color = 'k')\n",
    "    # plt.xlabel('Threshold')\n",
    "    # plt.ylabel('Specificity (%)')\n",
    "    plt.legend(loc = 'lower right', fontsize = 3/4 * s)\n",
    "    plt.ylabel('Percent (%)', fontsize=s)\n",
    "    plt.show()\n",
    "    \n",
    "    \n",
    "    print()\n",
    "    print('Best MCC', np.max(result[3]))\n",
    "    print('Corresponding threshold', threshold_lst[best_MMC_index])\n",
    "    print('Corresponding accuracy', result[0][best_MMC_index])\n",
    "    print('Corresponding sens', result[1][best_MMC_index])\n",
    "    print('Corresponding spec', result[2][best_MMC_index])\n",
    "    print()"
   ]
  },
  {
   "cell_type": "code",
   "execution_count": null,
   "metadata": {
    "scrolled": false
   },
   "outputs": [],
   "source": [
    "model_lst = [b_soft_pred, b_hard_pred, b_knn_pred, b_svc_pred, b_rfc_pred, b_mlp_pred, b_gbc_pred]\n",
    "model_name_lst = ['Soft Voting Classifier', 'Hard Voting Classifier', 'KNN', 'SVMC', 'RFC', 'MLP', 'GBC']\n",
    "for i, j in enumerate(model_lst):\n",
    "    model_name =model_name_lst[i]\n",
    "    MMC_plot_eval(j)"
   ]
  },
  {
   "cell_type": "code",
   "execution_count": null,
   "metadata": {},
   "outputs": [],
   "source": []
  }
 ],
 "metadata": {
  "kernelspec": {
   "display_name": "Python 3",
   "language": "python",
   "name": "python3"
  },
  "language_info": {
   "codemirror_mode": {
    "name": "ipython",
    "version": 3
   },
   "file_extension": ".py",
   "mimetype": "text/x-python",
   "name": "python",
   "nbconvert_exporter": "python",
   "pygments_lexer": "ipython3",
   "version": "3.8.5"
  }
 },
 "nbformat": 4,
 "nbformat_minor": 2
}
